{
 "cells": [
  {
   "cell_type": "markdown",
   "metadata": {
    "editable": false
   },
   "source": [
    "# Library"
   ]
  },
  {
   "cell_type": "code",
   "execution_count": null,
   "metadata": {
    "editable": false,
    "execution": {
     "iopub.execute_input": "2024-12-12T10:37:03.973328Z",
     "iopub.status.busy": "2024-12-12T10:37:03.972585Z",
     "iopub.status.idle": "2024-12-12T10:37:07.714746Z",
     "shell.execute_reply": "2024-12-12T10:37:07.713599Z",
     "shell.execute_reply.started": "2024-12-12T10:37:03.973293Z"
    },
    "trusted": true
   },
   "outputs": [],
   "source": [
    "%%capture\n",
    "%pip install catboost"
   ]
  },
  {
   "cell_type": "code",
   "execution_count": 26,
   "metadata": {
    "_cell_guid": "b1076dfc-b9ad-4769-8c92-a6c4dae69d19",
    "_uuid": "8f2839f25d086af736a60e9eeb907d3b93b6e0e5",
    "editable": false,
    "execution": {
     "iopub.execute_input": "2024-12-12T10:37:07.716838Z",
     "iopub.status.busy": "2024-12-12T10:37:07.716559Z",
     "iopub.status.idle": "2024-12-12T10:37:07.722147Z",
     "shell.execute_reply": "2024-12-12T10:37:07.721399Z",
     "shell.execute_reply.started": "2024-12-12T10:37:07.716812Z"
    },
    "trusted": true
   },
   "outputs": [],
   "source": [
    "import pandas as pd\n",
    "from catboost import CatBoostRegressor\n",
    "\n",
    "from numpy.random import seed\n",
    "seed(7991)"
   ]
  },
  {
   "cell_type": "markdown",
   "metadata": {
    "editable": false
   },
   "source": [
    "# Read Data"
   ]
  },
  {
   "cell_type": "code",
   "execution_count": null,
   "metadata": {
    "editable": false,
    "execution": {
     "iopub.execute_input": "2024-12-12T10:37:07.723269Z",
     "iopub.status.busy": "2024-12-12T10:37:07.723046Z",
     "iopub.status.idle": "2024-12-12T10:37:13.504285Z",
     "shell.execute_reply": "2024-12-12T10:37:13.503535Z",
     "shell.execute_reply.started": "2024-12-12T10:37:07.723245Z"
    },
    "trusted": true
   },
   "outputs": [],
   "source": [
    "df_train = pd.read_csv('data/train.csv')\n",
    "df_test = pd.read_csv('/data/test.csv')"
   ]
  },
  {
   "cell_type": "markdown",
   "metadata": {
    "editable": false
   },
   "source": [
    "# Preprocessing"
   ]
  },
  {
   "cell_type": "code",
   "execution_count": 28,
   "metadata": {
    "editable": false,
    "execution": {
     "iopub.execute_input": "2024-12-12T10:37:13.506396Z",
     "iopub.status.busy": "2024-12-12T10:37:13.506000Z",
     "iopub.status.idle": "2024-12-12T10:37:13.512660Z",
     "shell.execute_reply": "2024-12-12T10:37:13.511989Z",
     "shell.execute_reply.started": "2024-12-12T10:37:13.506368Z"
    },
    "trusted": true
   },
   "outputs": [],
   "source": [
    "def clean_column_names(df):\n",
    "    df.columns = df.columns.str.strip().str.lower().str.replace(' ', '_').str.replace('(', '').str.replace(')', '')\n",
    "    return df\n",
    "\n",
    "df_train = clean_column_names(df_train)\n",
    "df_test = clean_column_names(df_test)"
   ]
  },
  {
   "cell_type": "markdown",
   "metadata": {
    "editable": false
   },
   "source": [
    "# Data Cleaning"
   ]
  },
  {
   "cell_type": "markdown",
   "metadata": {
    "editable": false
   },
   "source": [
    "## Outlier Detection and Removal"
   ]
  },
  {
   "cell_type": "code",
   "execution_count": 29,
   "metadata": {
    "editable": false,
    "execution": {
     "iopub.execute_input": "2024-12-12T10:37:13.513832Z",
     "iopub.status.busy": "2024-12-12T10:37:13.513530Z",
     "iopub.status.idle": "2024-12-12T10:37:13.845266Z",
     "shell.execute_reply": "2024-12-12T10:37:13.844449Z",
     "shell.execute_reply.started": "2024-12-12T10:37:13.513786Z"
    },
    "trusted": true
   },
   "outputs": [],
   "source": [
    "outliers = df_train['premium_amount'][\n",
    "    (df_train['premium_amount'] < df_train['premium_amount'].quantile(0.25) - 1.5 * (df_train['premium_amount'].quantile(0.75) - df_train['premium_amount'].quantile(0.25))) |\n",
    "    (df_train['premium_amount'] > df_train['premium_amount'].quantile(0.75) + 1.5 * (df_train['premium_amount'].quantile(0.75) - df_train['premium_amount'].quantile(0.25)))\n",
    "]\n",
    "\n",
    "# Remove outliers\n",
    "df_train = df_train[~df_train['premium_amount'].isin(outliers)]"
   ]
  },
  {
   "cell_type": "markdown",
   "metadata": {
    "editable": false
   },
   "source": [
    "## Missing Value"
   ]
  },
  {
   "cell_type": "code",
   "execution_count": 30,
   "metadata": {
    "editable": false,
    "execution": {
     "iopub.execute_input": "2024-12-12T10:37:13.846585Z",
     "iopub.status.busy": "2024-12-12T10:37:13.846293Z",
     "iopub.status.idle": "2024-12-12T10:37:14.474688Z",
     "shell.execute_reply": "2024-12-12T10:37:14.473884Z",
     "shell.execute_reply.started": "2024-12-12T10:37:13.846558Z"
    },
    "trusted": true
   },
   "outputs": [],
   "source": [
    "df_train = df_train.dropna()"
   ]
  },
  {
   "cell_type": "markdown",
   "metadata": {
    "editable": false
   },
   "source": [
    "# Convert categorical variables to category"
   ]
  },
  {
   "cell_type": "code",
   "execution_count": 31,
   "metadata": {
    "editable": false,
    "execution": {
     "iopub.execute_input": "2024-12-12T10:37:14.475989Z",
     "iopub.status.busy": "2024-12-12T10:37:14.475723Z",
     "iopub.status.idle": "2024-12-12T10:37:17.127754Z",
     "shell.execute_reply": "2024-12-12T10:37:17.126978Z",
     "shell.execute_reply.started": "2024-12-12T10:37:14.475965Z"
    },
    "trusted": true
   },
   "outputs": [],
   "source": [
    "categorical_cols = df_train.select_dtypes(include=['object', 'category']).columns\n",
    "\n",
    "df_train[categorical_cols] = df_train[categorical_cols].astype('str').fillna('None').astype('category')\n",
    "df_test[categorical_cols] = df_test[categorical_cols].astype('str').fillna('None').astype('category')\n",
    "\n",
    "# Convert categorical columns to numeric representation\n",
    "cat_features = []\n",
    "for col in categorical_cols:\n",
    "    df_train[col], _ = df_train[col].factorize()\n",
    "    df_test[col], _ = df_test[col].factorize()\n",
    "    cat_features.append(df_train.columns.get_loc(col))"
   ]
  },
  {
   "cell_type": "markdown",
   "metadata": {
    "editable": false
   },
   "source": [
    "# Fitting"
   ]
  },
  {
   "cell_type": "code",
   "execution_count": 32,
   "metadata": {
    "editable": false,
    "execution": {
     "iopub.execute_input": "2024-12-12T10:37:17.129076Z",
     "iopub.status.busy": "2024-12-12T10:37:17.128798Z",
     "iopub.status.idle": "2024-12-12T10:42:29.776008Z",
     "shell.execute_reply": "2024-12-12T10:42:29.774826Z",
     "shell.execute_reply.started": "2024-12-12T10:37:17.129048Z"
    },
    "trusted": true
   },
   "outputs": [],
   "source": [
    "# Model training and prediction\n",
    "model = CatBoostRegressor(cat_features=cat_features, random_state=42, verbose=False)\n",
    "model.fit(df_train.drop('premium_amount', axis=1), df_train['premium_amount'])\n",
    "y_hat = model.predict(df_test)"
   ]
  },
  {
   "cell_type": "markdown",
   "metadata": {
    "editable": false
   },
   "source": [
    "# Prediction"
   ]
  },
  {
   "cell_type": "code",
   "execution_count": 33,
   "metadata": {
    "editable": false,
    "execution": {
     "iopub.execute_input": "2024-12-12T10:42:29.777602Z",
     "iopub.status.busy": "2024-12-12T10:42:29.777297Z",
     "iopub.status.idle": "2024-12-12T10:42:29.786479Z",
     "shell.execute_reply": "2024-12-12T10:42:29.785680Z",
     "shell.execute_reply.started": "2024-12-12T10:42:29.777574Z"
    },
    "trusted": true
   },
   "outputs": [],
   "source": [
    "submission = pd.DataFrame({\n",
    "    'id': df_test['id'],  # Ensure 'id' column is present in df_test\n",
    "    'Premium Amount': y_hat\n",
    "})"
   ]
  },
  {
   "cell_type": "code",
   "execution_count": null,
   "metadata": {
    "editable": false,
    "execution": {
     "iopub.execute_input": "2024-12-12T10:44:45.108688Z",
     "iopub.status.busy": "2024-12-12T10:44:45.107553Z",
     "iopub.status.idle": "2024-12-12T10:44:45.117616Z",
     "shell.execute_reply": "2024-12-12T10:44:45.116866Z",
     "shell.execute_reply.started": "2024-12-12T10:44:45.108645Z"
    },
    "trusted": true
   },
   "outputs": [],
   "source": [
    "submission.head()"
   ]
  },
  {
   "cell_type": "code",
   "execution_count": 37,
   "metadata": {
    "editable": false,
    "execution": {
     "iopub.execute_input": "2024-12-12T10:44:52.564413Z",
     "iopub.status.busy": "2024-12-12T10:44:52.563961Z",
     "iopub.status.idle": "2024-12-12T10:44:54.135533Z",
     "shell.execute_reply": "2024-12-12T10:44:54.134472Z",
     "shell.execute_reply.started": "2024-12-12T10:44:52.564378Z"
    },
    "trusted": true
   },
   "outputs": [],
   "source": [
    "submission.to_csv('submission.csv', index=False)"
   ]
  }
 ],
 "metadata": {
  "kaggle": {
   "accelerator": "tpu1vmV38",
   "dataSources": [
    {
     "databundleVersionId": 10305135,
     "sourceId": 84896,
     "sourceType": "competition"
    }
   ],
   "dockerImageVersionId": 30804,
   "isGpuEnabled": false,
   "isInternetEnabled": true,
   "language": "python",
   "sourceType": "notebook"
  },
  "kernelspec": {
   "display_name": "Python 3",
   "language": "python",
   "name": "python3"
  },
  "language_info": {
   "codemirror_mode": {
    "name": "ipython",
    "version": 3
   },
   "file_extension": ".py",
   "mimetype": "text/x-python",
   "name": "python",
   "nbconvert_exporter": "python",
   "pygments_lexer": "ipython3",
   "version": "3.13.0"
  }
 },
 "nbformat": 4,
 "nbformat_minor": 4
}
